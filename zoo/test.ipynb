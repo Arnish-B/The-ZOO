{
 "cells": [
  {
   "cell_type": "code",
   "execution_count": 5,
   "metadata": {},
   "outputs": [],
   "source": [
    "from dotenv import load_dotenv\n",
    "import os\n",
    "import openai\n",
    "import requests\n",
    "from collections import defaultdict"
   ]
  },
  {
   "cell_type": "code",
   "execution_count": 4,
   "metadata": {},
   "outputs": [
    {
     "data": {
      "text/plain": [
       "'[{\"_id\":\"65b66c6d7d94dfa8ce1d46a9\",\"userId\":\"65b66c3f7d94dfa8ce1d4699\",\"description\":\"test tweet from user2\",\"likes\":[\"65b66c3f7d94dfa8ce1d4699\"],\"createdAt\":\"2024-01-28T15:02:05.411Z\",\"updatedAt\":\"2024-01-28T15:02:08.863Z\",\"__v\":0},{\"_id\":\"65bb2dbdca464f1ae5ff1e82\",\"userId\":\"65b6654eb2aa9545ab39b89d\",\"description\":\"okay this is working, user2 wasn\\'t\",\"likes\":[\"65b6654eb2aa9545ab39b89d\"],\"createdAt\":\"2024-02-01T05:35:57.948Z\",\"updatedAt\":\"2024-02-01T05:37:10.865Z\",\"__v\":0},{\"_id\":\"65bb2ddeca464f1ae5ff1e9d\",\"userId\":\"65b6654eb2aa9545ab39b89d\",\"description\":\"it shouldn\\'t be a problem but idk lets hope it was that\",\"likes\":[\"65b6654eb2aa9545ab39b89d\"],\"createdAt\":\"2024-02-01T05:36:30.654Z\",\"updatedAt\":\"2024-02-01T05:37:11.890Z\",\"__v\":0},{\"_id\":\"65bb2dfaca464f1ae5ff1ec4\",\"userId\":\"65b6654eb2aa9545ab39b89d\",\"description\":\"anyways, ig thats enough tweets for testing purposes\\\\n\",\"likes\":[\"65b6654eb2aa9545ab39b89d\"],\"createdAt\":\"2024-02-01T05:36:58.820Z\",\"updatedAt\":\"2024-02-01T05:37:14.619Z\",\"__v\":0},{\"_id\":\"65bb2e04ca464f1ae5ff1edc\",\"userId\":\"65b6654eb2aa9545ab39b89d\",\"description\":\"one from user2 and the rest from user1\",\"likes\":[\"65b6654eb2aa9545ab39b89d\"],\"createdAt\":\"2024-02-01T05:37:08.956Z\",\"updatedAt\":\"2024-02-01T05:37:15.915Z\",\"__v\":0},{\"_id\":\"65bb2e21ca464f1ae5ff1f62\",\"userId\":\"65b6654eb2aa9545ab39b89d\",\"description\":\"and this one\",\"likes\":[\"65b6654eb2aa9545ab39b89d\"],\"createdAt\":\"2024-02-01T05:37:37.914Z\",\"updatedAt\":\"2024-02-01T05:37:40.573Z\",\"__v\":0},{\"_id\":\"65bb2dadca464f1ae5ff1e6a\",\"userId\":\"65b6654eb2aa9545ab39b89d\",\"description\":\"hi there!\",\"likes\":[],\"createdAt\":\"2024-02-01T05:35:41.728Z\",\"updatedAt\":\"2024-02-01T05:35:41.728Z\",\"__v\":0},{\"_id\":\"65bb2dcbca464f1ae5ff1e8e\",\"userId\":\"65b6654eb2aa9545ab39b89d\",\"description\":\"but ig thats got something to do with the session timeout\",\"likes\":[],\"createdAt\":\"2024-02-01T05:36:11.679Z\",\"updatedAt\":\"2024-02-01T05:36:11.679Z\",\"__v\":0},{\"_id\":\"65bb2decca464f1ae5ff1eaf\",\"userId\":\"65b6654eb2aa9545ab39b89d\",\"description\":\"and not something erratic altogether\",\"likes\":[],\"createdAt\":\"2024-02-01T05:36:44.056Z\",\"updatedAt\":\"2024-02-01T05:36:44.056Z\",\"__v\":0},{\"_id\":\"65bb2e16ca464f1ae5ff1f23\",\"userId\":\"65b6654eb2aa9545ab39b89d\",\"description\":\"liked a random number of tweets too\",\"likes\":[],\"createdAt\":\"2024-02-01T05:37:26.067Z\",\"updatedAt\":\"2024-02-01T05:37:26.067Z\",\"__v\":0},{\"_id\":\"65bb2e1eca464f1ae5ff1f41\",\"userId\":\"65b6654eb2aa9545ab39b89d\",\"description\":\"liked the previous one too\",\"likes\":[],\"createdAt\":\"2024-02-01T05:37:34.402Z\",\"updatedAt\":\"2024-02-01T05:37:34.402Z\",\"__v\":0}]'"
      ]
     },
     "execution_count": 4,
     "metadata": {},
     "output_type": "execute_result"
    }
   ],
   "source": [
    "url = \"http://localhost:3000/tweets/explore\"\n",
    "html = requests.get(url)\n",
    "html.text"
   ]
  },
  {
   "cell_type": "code",
   "execution_count": 10,
   "metadata": {},
   "outputs": [
    {
     "data": {
      "text/plain": [
       "['test tweet from user2',\n",
       " \"okay this is working, user2 wasn't\",\n",
       " \"it shouldn't be a problem but idk lets hope it was that\",\n",
       " 'anyways, ig thats enough tweets for testing purposes\\n',\n",
       " 'one from user2 and the rest from user1',\n",
       " 'and this one',\n",
       " 'hi there!',\n",
       " 'but ig thats got something to do with the session timeout',\n",
       " 'and not something erratic altogether',\n",
       " 'liked a random number of tweets too',\n",
       " 'liked the previous one too']"
      ]
     },
     "execution_count": 10,
     "metadata": {},
     "output_type": "execute_result"
    }
   ],
   "source": [
    "allTweets = []\n",
    "for tweet in html.json():\n",
    "    allTweets.append(tweet[\"description\"])\n",
    "\n",
    "allTweets"
   ]
  },
  {
   "cell_type": "code",
   "execution_count": 4,
   "metadata": {},
   "outputs": [
    {
     "data": {
      "text/plain": [
       "[{'_id': '65b6654eb2aa9545ab39b89d',\n",
       "  'username': 'user1',\n",
       "  'email': 'user1@gmail.com',\n",
       "  'password': '$2a$10$TVQaclxk1JNNDXUyf5uuPOul2poysKNzWQtvLyePM.1jaSypj7Gwm',\n",
       "  'followers': [],\n",
       "  'following': [],\n",
       "  'createdAt': '2024-01-28T14:31:42.832Z',\n",
       "  'updatedAt': '2024-01-28T14:31:42.832Z',\n",
       "  '__v': 0},\n",
       " {'_id': '65b66c3f7d94dfa8ce1d4699',\n",
       "  'username': 'user2',\n",
       "  'email': 'user2@gmail.com',\n",
       "  'password': '$2a$10$bkC/AlB0CKoSXsTQYKXZnOMK1nY7GwBLezMiINiT/QKb2ByeBowU2',\n",
       "  'followers': [],\n",
       "  'following': [],\n",
       "  'createdAt': '2024-01-28T15:01:19.041Z',\n",
       "  'updatedAt': '2024-01-28T15:01:19.041Z',\n",
       "  '__v': 0},\n",
       " {'_id': '65b699bac7454dfcb399eb1d',\n",
       "  'username': 'ayush',\n",
       "  'email': 'ayush@gmail.com',\n",
       "  'password': '$2a$10$eBnoMNe6kbmXf/q2LGJFw.h1aUg6BVxi/fgQKv2v2DnJCbLt6cclW',\n",
       "  'followers': [],\n",
       "  'following': [],\n",
       "  'createdAt': '2024-01-28T18:15:22.214Z',\n",
       "  'updatedAt': '2024-01-28T18:15:22.214Z',\n",
       "  '__v': 0}]"
      ]
     },
     "execution_count": 4,
     "metadata": {},
     "output_type": "execute_result"
    }
   ],
   "source": [
    "url = \"http://localhost:3000/users/\"\n",
    "html = requests.get(url)\n",
    "html = html.json()\n",
    "html"
   ]
  },
  {
   "cell_type": "code",
   "execution_count": 6,
   "metadata": {},
   "outputs": [
    {
     "data": {
      "text/plain": [
       "defaultdict(list,\n",
       "            {'user1': '65b6654eb2aa9545ab39b89d',\n",
       "             'user2': '65b66c3f7d94dfa8ce1d4699',\n",
       "             'ayush': '65b699bac7454dfcb399eb1d'})"
      ]
     },
     "execution_count": 6,
     "metadata": {},
     "output_type": "execute_result"
    }
   ],
   "source": [
    "# make a dictionary, traverse through html and append in the dictionary username : id\n",
    "user_id = defaultdict(list)\n",
    "for user in html:\n",
    "    user_id[user[\"username\"]] = user[\"_id\"]\n",
    "user_id\n"
   ]
  },
  {
   "cell_type": "code",
   "execution_count": 2,
   "metadata": {},
   "outputs": [
    {
     "name": "stdout",
     "output_type": "stream",
     "text": [
      "Connected to the MongoDB database!\n",
      "UpdateResult({'n': 1, 'electionId': ObjectId('7fffffff0000000000000013'), 'opTime': {'ts': Timestamp(1711725661, 4), 't': 19}, 'nModified': 1, 'ok': 1.0, '$clusterTime': {'clusterTime': Timestamp(1711725661, 4), 'signature': {'hash': b'\\xbf&\\x94\\xaa\\xa6B\\xe1w\\x9f\\xed\\x81\\xb70\\xd9\\xfc`\\x93\\xfa\\xa6T', 'keyId': 7328050956799574021}}, 'operationTime': Timestamp(1711725661, 4), 'updatedExisting': True}, acknowledged=True)\n",
      "Reply saved successfully\n"
     ]
    },
    {
     "ename": "AttributeError",
     "evalue": "'UpdateResult' object has no attribute 'inserted_id'",
     "output_type": "error",
     "traceback": [
      "\u001b[0;31m---------------------------------------------------------------------------\u001b[0m",
      "\u001b[0;31mAttributeError\u001b[0m                            Traceback (most recent call last)",
      "Cell \u001b[0;32mIn[2], line 3\u001b[0m\n\u001b[1;32m      1\u001b[0m \u001b[38;5;28;01mfrom\u001b[39;00m \u001b[38;5;21;01mdb\u001b[39;00m \u001b[38;5;28;01mimport\u001b[39;00m save_reply\n\u001b[0;32m----> 3\u001b[0m \u001b[43msave_reply\u001b[49m\u001b[43m(\u001b[49m\u001b[38;5;124;43m\"\u001b[39;49m\u001b[38;5;124;43mbatman\u001b[39;49m\u001b[38;5;124;43m\"\u001b[39;49m\u001b[43m,\u001b[49m\u001b[43m \u001b[49m\u001b[38;5;124;43m\"\u001b[39;49m\u001b[38;5;124;43m6606d33cb59ffc55f4ccf139\u001b[39;49m\u001b[38;5;124;43m\"\u001b[39;49m\u001b[43m,\u001b[49m\u001b[43m \u001b[49m\u001b[38;5;124;43m\"\u001b[39;49m\u001b[38;5;124;43mreplying from ipynb234\u001b[39;49m\u001b[38;5;124;43m\"\u001b[39;49m\u001b[43m)\u001b[49m\n",
      "File \u001b[0;32m~/Arnish/work/DEV/The-ZOO/The-Zoo/zoo/db.py:49\u001b[0m, in \u001b[0;36msave_reply\u001b[0;34m(personality_id, tweet_id, description)\u001b[0m\n\u001b[1;32m     45\u001b[0m     \u001b[38;5;28mprint\u001b[39m(\u001b[38;5;124m\"\u001b[39m\u001b[38;5;124mReply saved successfully\u001b[39m\u001b[38;5;124m\"\u001b[39m)\n\u001b[1;32m     46\u001b[0m     \u001b[38;5;66;03m# Update the replies field of the tweet schema and set it to the unique ID generated\u001b[39;00m\n\u001b[1;32m     47\u001b[0m     tweets_collection\u001b[38;5;241m.\u001b[39mupdate_one(\n\u001b[1;32m     48\u001b[0m         {\u001b[38;5;124m\"\u001b[39m\u001b[38;5;124m_id\u001b[39m\u001b[38;5;124m\"\u001b[39m: ObjectId(tweet_id)},\n\u001b[0;32m---> 49\u001b[0m         {\u001b[38;5;124m\"\u001b[39m\u001b[38;5;124m$set\u001b[39m\u001b[38;5;124m\"\u001b[39m: {\u001b[38;5;124m\"\u001b[39m\u001b[38;5;124mreplies\u001b[39m\u001b[38;5;124m\"\u001b[39m: \u001b[43mresult\u001b[49m\u001b[38;5;241;43m.\u001b[39;49m\u001b[43minserted_id\u001b[49m}},\n\u001b[1;32m     50\u001b[0m     )\n\u001b[1;32m     51\u001b[0m     \u001b[38;5;28;01mreturn\u001b[39;00m \u001b[38;5;28;01mTrue\u001b[39;00m\n\u001b[1;32m     52\u001b[0m \u001b[38;5;28;01melse\u001b[39;00m:\n",
      "\u001b[0;31mAttributeError\u001b[0m: 'UpdateResult' object has no attribute 'inserted_id'"
     ]
    }
   ],
   "source": [
    "from db import save_reply\n",
    "\n",
    "save_reply(\"batman\", \"6606d33cb59ffc55f4ccf139\", \"replying from ipynb234\")"
   ]
  },
  {
   "cell_type": "code",
   "execution_count": null,
   "metadata": {},
   "outputs": [],
   "source": []
  },
  {
   "cell_type": "code",
   "execution_count": null,
   "metadata": {},
   "outputs": [],
   "source": []
  },
  {
   "cell_type": "code",
   "execution_count": 9,
   "metadata": {},
   "outputs": [],
   "source": [
    "\n"
   ]
  },
  {
   "cell_type": "code",
   "execution_count": null,
   "metadata": {},
   "outputs": [],
   "source": []
  },
  {
   "cell_type": "code",
   "execution_count": null,
   "metadata": {},
   "outputs": [],
   "source": []
  },
  {
   "cell_type": "code",
   "execution_count": null,
   "metadata": {},
   "outputs": [],
   "source": []
  },
  {
   "cell_type": "code",
   "execution_count": null,
   "metadata": {},
   "outputs": [],
   "source": []
  }
 ],
 "metadata": {
  "kernelspec": {
   "display_name": "Python 3",
   "language": "python",
   "name": "python3"
  },
  "language_info": {
   "codemirror_mode": {
    "name": "ipython",
    "version": 3
   },
   "file_extension": ".py",
   "mimetype": "text/x-python",
   "name": "python",
   "nbconvert_exporter": "python",
   "pygments_lexer": "ipython3",
   "version": "3.10.12"
  }
 },
 "nbformat": 4,
 "nbformat_minor": 2
}
